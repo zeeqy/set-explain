{
 "cells": [
  {
   "cell_type": "code",
   "execution_count": 6,
   "metadata": {},
   "outputs": [],
   "source": [
    "import numpy as np\n",
    "import pandas as pd\n",
    "import json"
   ]
  },
  {
   "cell_type": "code",
   "execution_count": 7,
   "metadata": {},
   "outputs": [],
   "source": [
    "page_length = pd.read_csv('../data/page_length.txt',header=None, delimiter='\\t')\n",
    "page_length.columns = ['title','length']"
   ]
  },
  {
   "cell_type": "code",
   "execution_count": 8,
   "metadata": {},
   "outputs": [],
   "source": [
    "titles = page_length.title.astype(str).tolist()\n",
    "list_page = [t for t in titles if 'List of ' in str(t)]\n",
    "disambiguation_page = [t for t in titles if '(disambiguation)' in t]\n",
    "short_page = page_length[page_length.length <= 500].title.astype(str).tolist()"
   ]
  },
  {
   "cell_type": "code",
   "execution_count": 9,
   "metadata": {},
   "outputs": [],
   "source": [
    "with open('../data/page_freq.txt', 'r') as f:\n",
    "    raw = f.readlines()\n",
    "f.close()\n",
    "freq_dict = {}\n",
    "for r in raw:\n",
    "    freq_dict.update(json.loads(r))\n",
    "page_freq = pd.DataFrame(list(freq_dict.items()), columns=['title', 'freq'])"
   ]
  },
  {
   "cell_type": "code",
   "execution_count": 10,
   "metadata": {},
   "outputs": [],
   "source": [
    "unpopular_page = page_freq[page_freq.freq <= 600].title.astype(str).tolist()"
   ]
  },
  {
   "cell_type": "code",
   "execution_count": 11,
   "metadata": {},
   "outputs": [
    {
     "name": "stdout",
     "output_type": "stream",
     "text": [
      "list page: 105546 disambiguation page: 21718 short page: 2127812 unpopular page: 4552760\n"
     ]
    }
   ],
   "source": [
    "print('list page:', len(list_page), 'disambiguation page:', len(disambiguation_page), 'short page:', len(short_page), 'unpopular page:', len(unpopular_page))"
   ]
  },
  {
   "cell_type": "code",
   "execution_count": 12,
   "metadata": {},
   "outputs": [],
   "source": [
    "invalid = set(list_page + disambiguation_page + short_page + unpopular_page)"
   ]
  },
  {
   "cell_type": "code",
   "execution_count": 13,
   "metadata": {},
   "outputs": [
    {
     "name": "stdout",
     "output_type": "stream",
     "text": [
      "total invalid page: 4665980\n"
     ]
    }
   ],
   "source": [
    "print('total invalid page:', len(invalid))"
   ]
  },
  {
   "cell_type": "code",
   "execution_count": 14,
   "metadata": {},
   "outputs": [],
   "source": [
    "with open('../data/invalid.txt', 'w+') as f:\n",
    "    f.write('\\n'.join(invalid))\n",
    "f.close()"
   ]
  }
 ],
 "metadata": {
  "kernelspec": {
   "display_name": "Python 3",
   "language": "python",
   "name": "python3"
  },
  "language_info": {
   "codemirror_mode": {
    "name": "ipython",
    "version": 3
   },
   "file_extension": ".py",
   "mimetype": "text/x-python",
   "name": "python",
   "nbconvert_exporter": "python",
   "pygments_lexer": "ipython3",
   "version": "3.7.2"
  }
 },
 "nbformat": 4,
 "nbformat_minor": 2
}
