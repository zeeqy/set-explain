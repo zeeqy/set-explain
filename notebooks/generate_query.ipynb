{
 "cells": [
  {
   "cell_type": "code",
   "execution_count": null,
   "metadata": {},
   "outputs": [],
   "source": [
    "import json\n",
    "import numpy as np"
   ]
  },
  {
   "cell_type": "code",
   "execution_count": null,
   "metadata": {},
   "outputs": [],
   "source": [
    "with open('../data/gold_set.txt', \"r\") as f:\n",
    "    gold_set = f.read().split('\\n')[:-1]\n",
    "f.close()"
   ]
  },
  {
   "cell_type": "code",
   "execution_count": null,
   "metadata": {},
   "outputs": [],
   "source": [
    "query_len = 3\n",
    "query_per_set = 10\n",
    "query_list = []\n",
    "for st in gold_set:\n",
    "    json_st = json.loads(st)\n",
    "    count = 0\n",
    "    for i in range(query_per_set):\n",
    "        q = {}\n",
    "        q['title'] = json_st['title'].lower()\n",
    "        q['qid'] = '{}|{}|{}'.format(json_st['id'], query_len, count)\n",
    "        q['entities'] = np.random.choice(json_st['entities'], query_len, replace=False).tolist()\n",
    "        query_list.append(json.dumps(q))\n",
    "        count += 1"
   ]
  },
  {
   "cell_type": "code",
   "execution_count": null,
   "metadata": {},
   "outputs": [],
   "source": [
    "with open('../data/query-3.txt', \"w+\") as f:\n",
    "    f.write('\\n'.join(query_list))\n",
    "f.close()"
   ]
  },
  {
   "cell_type": "code",
   "execution_count": null,
   "metadata": {},
   "outputs": [],
   "source": [
    "from textacy.similarity import jaccard"
   ]
  },
  {
   "cell_type": "code",
   "execution_count": null,
   "metadata": {},
   "outputs": [],
   "source": [
    "jaccard(\"Boston is a city of Maryland.\",\"Amherst localed in Maryland\")"
   ]
  },
  {
   "cell_type": "code",
   "execution_count": null,
   "metadata": {},
   "outputs": [],
   "source": [
    "import pandas as pd\n",
    "import nltk\n",
    "from nltk.stem.porter import PorterStemmer\n",
    "from nltk.corpus import wordnet as wn\n",
    "import itertools\n",
    "\n",
    "#use stemmer\n",
    "stm = PorterStemmer()\n",
    "sent1 =  \"_ is a city of Maryland.\"\n",
    "sent2 = \"Maryland has a city called _\"\n",
    "#Convert the tag given by nltk.pos_tag to the tag used by wordnet.synsets\n",
    "tag_dict = {'N': 'n', 'J': 'a', 'R': 'r', 'V': 'v'}\n",
    "\n",
    "s1 = nltk.pos_tag(nltk.word_tokenize(sent1))\n",
    "\n",
    "s1 = dict(filter(lambda x: len(x[1])>0,\n",
    "                 map(lambda row: (row[0],wn.synsets(\n",
    "                       stm.stem(row[0]),\n",
    "                       tag_dict[row[1][0]])) if row[1][0] in tag_dict.keys() \n",
    "                     else (row[0],[]),s1)))\n",
    "\n",
    "s2 = nltk.pos_tag(nltk.word_tokenize(sent2))\n",
    "\n",
    "s2 = dict(filter(lambda x: len(x[1])>0,\n",
    "                 map(lambda row: (row[0],wn.synsets(\n",
    "                          stm.stem(row[0]),\n",
    "                          tag_dict[row[1][0]])) if row[1][0] in tag_dict.keys() \n",
    "                     else (row[0],[]),s2)))"
   ]
  },
  {
   "cell_type": "code",
   "execution_count": null,
   "metadata": {},
   "outputs": [],
   "source": [
    "res = {}\n",
    "for w2,gr2 in s2.items():\n",
    "    for w1,gr1 in s1.items():\n",
    "        tmp = pd.Series(list(map(lambda row: row[1].path_similarity(row[0]),\n",
    "                                 itertools.product(gr1,gr2)))).dropna()\n",
    "        if len(tmp)>0:\n",
    "            res[(w1,w2)] = tmp.max()\n",
    "print(res)"
   ]
  },
  {
   "cell_type": "code",
   "execution_count": null,
   "metadata": {},
   "outputs": [],
   "source": [
    "similarity = pd.Series(res).groupby(level=0).max().mean()\n",
    "print(similarity)"
   ]
  },
  {
   "cell_type": "code",
   "execution_count": null,
   "metadata": {},
   "outputs": [],
   "source": [
    "from bert_serving.client import BertClient\n",
    "bc = BertClient(ip='localhost')\n",
    "bc.encode(['First do it', 'then do it right', 'then do it better'])"
   ]
  },
  {
   "cell_type": "code",
   "execution_count": null,
   "metadata": {},
   "outputs": [],
   "source": []
  }
 ],
 "metadata": {
  "kernelspec": {
   "display_name": "Python 3",
   "language": "python",
   "name": "python3"
  },
  "language_info": {
   "codemirror_mode": {
    "name": "ipython",
    "version": 3
   },
   "file_extension": ".py",
   "mimetype": "text/x-python",
   "name": "python",
   "nbconvert_exporter": "python",
   "pygments_lexer": "ipython3",
   "version": "3.7.3"
  }
 },
 "nbformat": 4,
 "nbformat_minor": 2
}
