{
 "cells": [
  {
   "cell_type": "code",
   "execution_count": 1,
   "metadata": {},
   "outputs": [],
   "source": [
    "import json\n",
    "import numpy as np"
   ]
  },
  {
   "cell_type": "code",
   "execution_count": 2,
   "metadata": {},
   "outputs": [],
   "source": [
    "with open('../data/gold_set_inherit.data', \"r\") as f:\n",
    "    gold_set = f.read().split('\\n')[:-1]\n",
    "f.close()"
   ]
  },
  {
   "cell_type": "code",
   "execution_count": 3,
   "metadata": {},
   "outputs": [],
   "source": [
    "query_len = 2\n",
    "query_per_set = 10\n",
    "query_list = []\n",
    "for st in gold_set:\n",
    "    json_st = json.loads(st)\n",
    "    count = 0\n",
    "    for i in range(query_per_set):\n",
    "        q = {}\n",
    "        q['title'] = json_st['title'].lower()\n",
    "        q['qid'] = '{}|{}|{}'.format(json_st['id'], query_len, count)\n",
    "        q['entities'] = np.random.choice(json_st['entities'], query_len, replace=False).tolist()\n",
    "        query_list.append(json.dumps(q))\n",
    "        count += 1"
   ]
  },
  {
   "cell_type": "code",
   "execution_count": 4,
   "metadata": {},
   "outputs": [],
   "source": [
    "with open('../data/query-2.txt', \"w+\") as f:\n",
    "    f.write('\\n'.join(query_list))\n",
    "f.close()"
   ]
  }
 ],
 "metadata": {
  "kernelspec": {
   "display_name": "Python 3",
   "language": "python",
   "name": "python3"
  },
  "language_info": {
   "codemirror_mode": {
    "name": "ipython",
    "version": 3
   },
   "file_extension": ".py",
   "mimetype": "text/x-python",
   "name": "python",
   "nbconvert_exporter": "python",
   "pygments_lexer": "ipython3",
   "version": "3.7.2"
  }
 },
 "nbformat": 4,
 "nbformat_minor": 2
}
