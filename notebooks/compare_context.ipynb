{
 "cells": [
  {
   "cell_type": "code",
   "execution_count": 1,
   "metadata": {},
   "outputs": [],
   "source": [
    "import numpy as np\n",
    "import pandas as pd\n",
    "import sys, os\n",
    "import json\n",
    "sys.path.append('../processing/')\n",
    "from querying_tools import matching_tools"
   ]
  },
  {
   "cell_type": "code",
   "execution_count": null,
   "metadata": {},
   "outputs": [],
   "source": [
    "mtools = matching_tools('../data','../data','')"
   ]
  },
  {
   "cell_type": "code",
   "execution_count": null,
   "metadata": {},
   "outputs": [],
   "source": [
    "with open('../data/query-3.txt', 'r') as f:\n",
    "    raw_query = f.read()\n",
    "f.close()\n",
    "\n",
    "query = [json.loads(q) for q in raw_query.split('\\n')]"
   ]
  },
  {
   "cell_type": "code",
   "execution_count": null,
   "metadata": {},
   "outputs": [],
   "source": [
    "testq = query[14]\n",
    "print(testq)"
   ]
  },
  {
   "cell_type": "code",
   "execution_count": null,
   "metadata": {},
   "outputs": [],
   "source": [
    "mlist_1 = mtools.entityMentioned(testq['entities'][0].replace('_', ' '))\n",
    "mlist_2 = mtools.entityMentioned(testq['entities'][1].replace('_', ' '))\n",
    "mlist_3 = mtools.entityMentioned(testq['entities'][2].replace('_', ' '))"
   ]
  },
  {
   "cell_type": "code",
   "execution_count": null,
   "metadata": {},
   "outputs": [],
   "source": [
    "def parseMentions(mlist):\n",
    "    mentions = {}\n",
    "    for rec in mlist:\n",
    "        part = rec.split('-')\n",
    "        if part[0] not in mentions.keys():\n",
    "            mentions.update({part[0]:{part[1]:set(part[2])}})\n",
    "        elif part[1] not in mentions[part[0]].keys():\n",
    "            mentions[part[0]].update({part[1]:set(part[2])})\n",
    "        else:\n",
    "            mentions[part[0]][part[1]].add(part[2])\n",
    "    return mentions"
   ]
  },
  {
   "cell_type": "code",
   "execution_count": null,
   "metadata": {},
   "outputs": [],
   "source": [
    "mentions_1 = parseMentions(mlist_1)\n",
    "mentions_2 = parseMentions(mlist_2)\n",
    "mentions_3 = parseMentions(mlist_3)"
   ]
  },
  {
   "cell_type": "code",
   "execution_count": null,
   "metadata": {},
   "outputs": [],
   "source": [
    "same_doc = []\n",
    "same_para = []\n",
    "same_sent = []\n",
    "\n",
    "doc_inter = set(mentions_1.keys()).intersection(set(mentions_2.keys())).intersection(set(mentions_3.keys()))\n",
    "\n",
    "for did in doc_inter:\n",
    "    para_inter = set(mentions_1[did].keys()).intersection(set(mentions_2[did].keys())).intersection(set(mentions_3[did].keys()))\n",
    "    if para_inter == set():\n",
    "        same_doc.append(did)\n",
    "    else:\n",
    "        for pid in para_inter:\n",
    "            sent_inter = mentions_1[did][pid].intersection(mentions_2[did][pid]).intersection(mentions_3[did][pid])\n",
    "            if sent_inter == set():\n",
    "                same_para.append(did + '-' + pid)\n",
    "            else:\n",
    "                for sid in sent_inter:\n",
    "                    same_sent.append(did + '-' + pid + '-' + sid)\n",
    "print(same_doc)\n",
    "print(same_para)\n",
    "print(same_sent)"
   ]
  },
  {
   "cell_type": "code",
   "execution_count": null,
   "metadata": {},
   "outputs": [],
   "source": [
    "import json"
   ]
  },
  {
   "cell_type": "code",
   "execution_count": 2,
   "metadata": {},
   "outputs": [],
   "source": [
    "raw_index = pd.read_csv('../data/inverted_index.csv', header=None, delimiter='\\t', names=['eid','mid'], dtype={'eid':str,'mid':str})"
   ]
  },
  {
   "cell_type": "code",
   "execution_count": 4,
   "metadata": {},
   "outputs": [
    {
     "data": {
      "text/plain": [
       "['1496209-33-4,5323724-18-1,692624-26-4,18304042-1-3,25553127-8-3,34468156-1-0,46185013-0-0,2006-16-1,861325-9-4,63547-25-6,71305-11-4,13449424-31-3,13201685-73-3,19058746-18-1,19058746-20-1,19058746-22-0,19058746-24-0,16948-4-0,13064-4-3']"
      ]
     },
     "execution_count": 4,
     "metadata": {},
     "output_type": "execute_result"
    }
   ],
   "source": [
    "raw_index.loc[raw_index['eid'] == '7777'].mid.tolist()"
   ]
  },
  {
   "cell_type": "code",
   "execution_count": 9,
   "metadata": {},
   "outputs": [
    {
     "data": {
      "text/plain": [
       "['7777',\n",
       " '1496209-33-4,5323724-18-1,692624-26-4,18304042-1-3,25553127-8-3,34468156-1-0,46185013-0-0,2006-16-1,861325-9-4,63547-25-6,71305-11-4,13449424-31-3,13201685-73-3,19058746-18-1,19058746-20-1,19058746-22-0,19058746-24-0,16948-4-0,13064-4-3']"
      ]
     },
     "execution_count": 9,
     "metadata": {},
     "output_type": "execute_result"
    }
   ],
   "source": [
    "raw_index.loc[raw_index['eid'] == '7777'].values[0].tolist()"
   ]
  },
  {
   "cell_type": "code",
   "execution_count": null,
   "metadata": {},
   "outputs": [],
   "source": []
  }
 ],
 "metadata": {
  "kernelspec": {
   "display_name": "Python 3",
   "language": "python",
   "name": "python3"
  },
  "language_info": {
   "codemirror_mode": {
    "name": "ipython",
    "version": 3
   },
   "file_extension": ".py",
   "mimetype": "text/x-python",
   "name": "python",
   "nbconvert_exporter": "python",
   "pygments_lexer": "ipython3",
   "version": "3.6.7"
  }
 },
 "nbformat": 4,
 "nbformat_minor": 2
}
